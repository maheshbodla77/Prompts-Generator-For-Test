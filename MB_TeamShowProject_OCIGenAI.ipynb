{
 "cells": [
  {
   "cell_type": "markdown",
   "id": "6f0bdbf8-e9fc-40f9-86b8-d67d6a726f76",
   "metadata": {},
   "source": [
    "### OCI Data Science - Useful Tips\n",
    "<details>\n",
    "<summary><font size=\"2\">Check for Public Internet Access</font></summary>\n",
    "\n",
    "```python\n",
    "import requests\n",
    "response = requests.get(\"https://oracle.com\")\n",
    "assert response.status_code==200, \"Internet connection failed\"\n",
    "```\n",
    "</details>\n",
    "<details>\n",
    "<summary><font size=\"2\">Helpful Documentation </font></summary>\n",
    "<ul><li><a href=\"https://docs.cloud.oracle.com/en-us/iaas/data-science/using/data-science.htm\">Data Science Service Documentation</a></li>\n",
    "<li><a href=\"https://docs.cloud.oracle.com/iaas/tools/ads-sdk/latest/index.html\">ADS documentation</a></li>\n",
    "</ul>\n",
    "</details>\n",
    "<details>\n",
    "<summary><font size=\"2\">Typical Cell Imports and Settings for ADS</font></summary>\n",
    "\n",
    "```python\n",
    "%load_ext autoreload\n",
    "%autoreload 2\n",
    "%matplotlib inline\n",
    "\n",
    "import warnings\n",
    "warnings.filterwarnings('ignore')\n",
    "\n",
    "import logging\n",
    "logging.basicConfig(format='%(levelname)s:%(message)s', level=logging.ERROR)\n",
    "\n",
    "import ads\n",
    "from ads.dataset.factory import DatasetFactory\n",
    "from ads.automl.provider import OracleAutoMLProvider\n",
    "from ads.automl.driver import AutoML\n",
    "from ads.evaluations.evaluator import ADSEvaluator\n",
    "from ads.common.data import ADSData\n",
    "from ads.explanations.explainer import ADSExplainer\n",
    "from ads.explanations.mlx_global_explainer import MLXGlobalExplainer\n",
    "from ads.explanations.mlx_local_explainer import MLXLocalExplainer\n",
    "from ads.catalog.model import ModelCatalog\n",
    "from ads.common.model_artifact import ModelArtifact\n",
    "```\n",
    "</details>\n",
    "<details>\n",
    "<summary><font size=\"2\">Useful Environment Variables</font></summary>\n",
    "\n",
    "```python\n",
    "import os\n",
    "print(os.environ[\"NB_SESSION_COMPARTMENT_OCID\"])\n",
    "print(os.environ[\"PROJECT_OCID\"])\n",
    "print(os.environ[\"USER_OCID\"])\n",
    "print(os.environ[\"TENANCY_OCID\"])\n",
    "print(os.environ[\"NB_REGION\"])\n",
    "```\n",
    "</details>"
   ]
  },
  {
   "cell_type": "markdown",
   "id": "202bbab8-ce52-4624-a91a-280de9c326d2",
   "metadata": {},
   "source": [
    "***Order Management Bot - Intelligent Order Management Assistant***"
   ]
  },
  {
   "cell_type": "markdown",
   "id": "ee5b32f3-dd68-445b-a72e-b3daf10b6e0c",
   "metadata": {
    "tags": []
   },
   "source": [
    "***Extract Order related information based on User Input Query***"
   ]
  },
  {
   "cell_type": "code",
   "execution_count": 16,
   "id": "68864e49-2530-4eb4-b800-ececbaf8517e",
   "metadata": {
    "tags": []
   },
   "outputs": [
    {
     "data": {
      "text/plain": [
       "True"
      ]
     },
     "execution_count": 16,
     "metadata": {},
     "output_type": "execute_result"
    }
   ],
   "source": [
    "#Setup the right Environment\n",
    "import os\n",
    "from dotenv import load_dotenv\n",
    "\n",
    "# Load environment variables from .env file\n",
    "load_dotenv()\n",
    "\n",
    "# Force load .env from the current working directory\n",
    "dotenv_path = \"/home/datascience/ns-user-61/scripts/validation/ns-user-61.env\"  # Ensure it's in the correct directory\n",
    "load_dotenv(dotenv_path)"
   ]
  },
  {
   "cell_type": "code",
   "execution_count": 17,
   "id": "3e504e3c-c7d5-49f4-9bdc-82d3fdb5ca6e",
   "metadata": {
    "tags": []
   },
   "outputs": [],
   "source": [
    "# Import the required libraries\n",
    "from langchain.text_splitter import RecursiveCharacterTextSplitter\n",
    "from langchain.vectorstores.faiss import FAISS\n",
    "from langchain_core.prompts import ChatPromptTemplate\n",
    "from langchain_core.output_parsers import StrOutputParser\n",
    "from langchain_core.runnables import RunnablePassthrough\n",
    "from langchain.embeddings import HuggingFaceInferenceAPIEmbeddings\n",
    "from langchain.llms import HuggingFaceHub\n",
    "from langchain_community.document_loaders import PyPDFLoader\n",
    "from langchain.retrievers import BM25Retriever, EnsembleRetriever\n",
    "from langchain_community.document_loaders import PyPDFDirectoryLoader\n",
    "\n",
    "import os"
   ]
  },
  {
   "cell_type": "code",
   "execution_count": 18,
   "id": "4ca133a4db94f25d",
   "metadata": {
    "ExecuteTime": {
     "end_time": "2025-03-13T07:29:00.963636Z",
     "start_time": "2025-03-13T07:29:00.077929Z"
    },
    "tags": []
   },
   "outputs": [
    {
     "data": {
      "text/html": [
       "<div>\n",
       "<style scoped>\n",
       "    .dataframe tbody tr th:only-of-type {\n",
       "        vertical-align: middle;\n",
       "    }\n",
       "\n",
       "    .dataframe tbody tr th {\n",
       "        vertical-align: top;\n",
       "    }\n",
       "\n",
       "    .dataframe thead th {\n",
       "        text-align: right;\n",
       "    }\n",
       "</style>\n",
       "<table border=\"1\" class=\"dataframe\">\n",
       "  <thead>\n",
       "    <tr style=\"text-align: right;\">\n",
       "      <th></th>\n",
       "      <th>HEADER_ID</th>\n",
       "      <th>ORDER_NUMBER</th>\n",
       "      <th>SOURCE_ORDER_ID</th>\n",
       "      <th>ORDERED_DATE</th>\n",
       "      <th>CUSTOMER_PO_NUMBER</th>\n",
       "      <th>ORDER_TYPE_CODE</th>\n",
       "      <th>TRANSACTIONAL_CURRENCY_CODE</th>\n",
       "      <th>STATUS_CODE</th>\n",
       "      <th>PARTIAL_SHIP_ALLOWED_FLAG</th>\n",
       "      <th>OPEN_FLAG</th>\n",
       "      <th>...</th>\n",
       "      <th>LAST_UPDATE_DATE</th>\n",
       "      <th>LAST_UPDATED_BY</th>\n",
       "      <th>PARTY_NAME</th>\n",
       "      <th>PARTY_NUMBER</th>\n",
       "      <th>CITY</th>\n",
       "      <th>COUNTRY</th>\n",
       "      <th>ADDRESS1</th>\n",
       "      <th>ADDRESS2</th>\n",
       "      <th>ADDRESS3</th>\n",
       "      <th>ADDRESS4</th>\n",
       "    </tr>\n",
       "  </thead>\n",
       "  <tbody>\n",
       "    <tr>\n",
       "      <th>0</th>\n",
       "      <td>100143718873134</td>\n",
       "      <td>13005673</td>\n",
       "      <td>300046227964779</td>\n",
       "      <td>2021-10-20</td>\n",
       "      <td>F21062201500-OW-1</td>\n",
       "      <td>HARDWARE INVOICE ONLY</td>\n",
       "      <td>USD</td>\n",
       "      <td>DOO_DRAFT</td>\n",
       "      <td>Y</td>\n",
       "      <td>N</td>\n",
       "      <td>...</td>\n",
       "      <td>2025-02-26 16:53:00</td>\n",
       "      <td>mounika.seetha@oracle.com</td>\n",
       "      <td>ÂØåÂ£´ÈÄöÊ†™Âºè‰ºöÁ§æ</td>\n",
       "      <td>1260408</td>\n",
       "      <td>Â∑ùÂ¥éÂ∏Ç</td>\n",
       "      <td>JP</td>\n",
       "      <td>‰∏≠ÂéüÂå∫‰∏äÂ∞èÁî∞‰∏≠ÔºîÔºçÔºëÔºçÔºë</td>\n",
       "      <td>NaN</td>\n",
       "      <td>NaN</td>\n",
       "      <td>NaN</td>\n",
       "    </tr>\n",
       "    <tr>\n",
       "      <th>1</th>\n",
       "      <td>302944170908266</td>\n",
       "      <td>13051401</td>\n",
       "      <td>302944170908266</td>\n",
       "      <td>2025-02-10</td>\n",
       "      <td>NaN</td>\n",
       "      <td>ALL BUSINESS MODELS</td>\n",
       "      <td>AUD</td>\n",
       "      <td>OPEN</td>\n",
       "      <td>N</td>\n",
       "      <td>Y</td>\n",
       "      <td>...</td>\n",
       "      <td>2025-02-20 17:46:00</td>\n",
       "      <td>OAL-INTEGRATOR-USER_WW@ORACLE.COM</td>\n",
       "      <td>NSW Health Pathology</td>\n",
       "      <td>A5L8CQG</td>\n",
       "      <td>Newcastle</td>\n",
       "      <td>AU</td>\n",
       "      <td>Level 5, 45 Watt St</td>\n",
       "      <td>NaN</td>\n",
       "      <td>NaN</td>\n",
       "      <td>NaN</td>\n",
       "    </tr>\n",
       "    <tr>\n",
       "      <th>2</th>\n",
       "      <td>302944172117270</td>\n",
       "      <td>13051402</td>\n",
       "      <td>302944172117270</td>\n",
       "      <td>2025-02-10</td>\n",
       "      <td>CC-5454</td>\n",
       "      <td>CLOUD SERVICES</td>\n",
       "      <td>USD</td>\n",
       "      <td>DOO_DRAFT</td>\n",
       "      <td>N</td>\n",
       "      <td>Y</td>\n",
       "      <td>...</td>\n",
       "      <td>2025-02-10 08:26:00</td>\n",
       "      <td>PRAVEEN.ENAMANDRAM@ORACLE.COM</td>\n",
       "      <td>Peerless Construction, LLC</td>\n",
       "      <td>11935310</td>\n",
       "      <td>WEST BRANCH</td>\n",
       "      <td>US</td>\n",
       "      <td>PO Box 813</td>\n",
       "      <td>NaN</td>\n",
       "      <td>NaN</td>\n",
       "      <td>NaN</td>\n",
       "    </tr>\n",
       "    <tr>\n",
       "      <th>3</th>\n",
       "      <td>302944170908470</td>\n",
       "      <td>13051403</td>\n",
       "      <td>302944170908470</td>\n",
       "      <td>2025-02-10</td>\n",
       "      <td>NaN</td>\n",
       "      <td>CLOUD SERVICES</td>\n",
       "      <td>USD</td>\n",
       "      <td>OPEN</td>\n",
       "      <td>N</td>\n",
       "      <td>Y</td>\n",
       "      <td>...</td>\n",
       "      <td>2025-02-10 09:31:00</td>\n",
       "      <td>mounika.seetha@oracle.com</td>\n",
       "      <td>comexpextvalid@gmail.com-580268</td>\n",
       "      <td>A5X9WSP</td>\n",
       "      <td>Redwood City</td>\n",
       "      <td>US</td>\n",
       "      <td>200 Oracle Parkway</td>\n",
       "      <td>NaN</td>\n",
       "      <td>NaN</td>\n",
       "      <td>NaN</td>\n",
       "    </tr>\n",
       "    <tr>\n",
       "      <th>4</th>\n",
       "      <td>302944170908712</td>\n",
       "      <td>13051404</td>\n",
       "      <td>302944170908712</td>\n",
       "      <td>2025-02-10</td>\n",
       "      <td>NaN</td>\n",
       "      <td>HARDWARE</td>\n",
       "      <td>USD</td>\n",
       "      <td>OPEN</td>\n",
       "      <td>N</td>\n",
       "      <td>Y</td>\n",
       "      <td>...</td>\n",
       "      <td>2025-02-10 11:49:00</td>\n",
       "      <td>mounika.seetha@oracle.com</td>\n",
       "      <td>Success Foods Management Group LLC c/o Torchy'...</td>\n",
       "      <td>A57642C</td>\n",
       "      <td>Austin</td>\n",
       "      <td>US</td>\n",
       "      <td>4501 Springdale Rd</td>\n",
       "      <td>NaN</td>\n",
       "      <td>NaN</td>\n",
       "      <td>NaN</td>\n",
       "    </tr>\n",
       "  </tbody>\n",
       "</table>\n",
       "<p>5 rows × 30 columns</p>\n",
       "</div>"
      ],
      "text/plain": [
       "         HEADER_ID ORDER_NUMBER  SOURCE_ORDER_ID ORDERED_DATE  \\\n",
       "0  100143718873134     13005673  300046227964779   2021-10-20   \n",
       "1  302944170908266     13051401  302944170908266   2025-02-10   \n",
       "2  302944172117270     13051402  302944172117270   2025-02-10   \n",
       "3  302944170908470     13051403  302944170908470   2025-02-10   \n",
       "4  302944170908712     13051404  302944170908712   2025-02-10   \n",
       "\n",
       "  CUSTOMER_PO_NUMBER        ORDER_TYPE_CODE TRANSACTIONAL_CURRENCY_CODE  \\\n",
       "0  F21062201500-OW-1  HARDWARE INVOICE ONLY                         USD   \n",
       "1                NaN    ALL BUSINESS MODELS                         AUD   \n",
       "2            CC-5454         CLOUD SERVICES                         USD   \n",
       "3                NaN         CLOUD SERVICES                         USD   \n",
       "4                NaN               HARDWARE                         USD   \n",
       "\n",
       "  STATUS_CODE PARTIAL_SHIP_ALLOWED_FLAG OPEN_FLAG  ...    LAST_UPDATE_DATE  \\\n",
       "0   DOO_DRAFT                         Y         N  ... 2025-02-26 16:53:00   \n",
       "1        OPEN                         N         Y  ... 2025-02-20 17:46:00   \n",
       "2   DOO_DRAFT                         N         Y  ... 2025-02-10 08:26:00   \n",
       "3        OPEN                         N         Y  ... 2025-02-10 09:31:00   \n",
       "4        OPEN                         N         Y  ... 2025-02-10 11:49:00   \n",
       "\n",
       "                     LAST_UPDATED_BY  \\\n",
       "0          mounika.seetha@oracle.com   \n",
       "1  OAL-INTEGRATOR-USER_WW@ORACLE.COM   \n",
       "2      PRAVEEN.ENAMANDRAM@ORACLE.COM   \n",
       "3          mounika.seetha@oracle.com   \n",
       "4          mounika.seetha@oracle.com   \n",
       "\n",
       "                                          PARTY_NAME PARTY_NUMBER  \\\n",
       "0                              ÂØåÂ£´ÈÄöÊ†™Âºè‰ºöÁ§æ      1260408   \n",
       "1                               NSW Health Pathology      A5L8CQG   \n",
       "2                         Peerless Construction, LLC     11935310   \n",
       "3                    comexpextvalid@gmail.com-580268      A5X9WSP   \n",
       "4  Success Foods Management Group LLC c/o Torchy'...      A57642C   \n",
       "\n",
       "           CITY  COUNTRY                              ADDRESS1  ADDRESS2  \\\n",
       "0     Â∑ùÂ¥éÂ∏Ç       JP  ‰∏≠ÂéüÂå∫‰∏äÂ∞èÁî∞‰∏≠ÔºîÔºçÔºëÔºçÔºë       NaN   \n",
       "1     Newcastle       AU                   Level 5, 45 Watt St       NaN   \n",
       "2   WEST BRANCH       US                            PO Box 813       NaN   \n",
       "3  Redwood City       US                    200 Oracle Parkway       NaN   \n",
       "4        Austin       US                    4501 Springdale Rd       NaN   \n",
       "\n",
       "  ADDRESS3 ADDRESS4  \n",
       "0      NaN      NaN  \n",
       "1      NaN      NaN  \n",
       "2      NaN      NaN  \n",
       "3      NaN      NaN  \n",
       "4      NaN      NaN  \n",
       "\n",
       "[5 rows x 30 columns]"
      ]
     },
     "execution_count": 18,
     "metadata": {},
     "output_type": "execute_result"
    }
   ],
   "source": [
    "import pandas as pd\n",
    "# Importing the Order Data into Data Frame1\n",
    "\n",
    "# Load the dataset\n",
    "OrderDetails = pd.read_excel('Headers_Details_with_Customer.xlsx')\n",
    "OrderDetails.head()"
   ]
  },
  {
   "cell_type": "code",
   "execution_count": 19,
   "id": "dede86033ac0d18d",
   "metadata": {
    "ExecuteTime": {
     "end_time": "2025-03-13T07:29:03.833771Z",
     "start_time": "2025-03-13T07:29:03.306370Z"
    },
    "tags": []
   },
   "outputs": [
    {
     "data": {
      "text/html": [
       "<div>\n",
       "<style scoped>\n",
       "    .dataframe tbody tr th:only-of-type {\n",
       "        vertical-align: middle;\n",
       "    }\n",
       "\n",
       "    .dataframe tbody tr th {\n",
       "        vertical-align: top;\n",
       "    }\n",
       "\n",
       "    .dataframe thead th {\n",
       "        text-align: right;\n",
       "    }\n",
       "</style>\n",
       "<table border=\"1\" class=\"dataframe\">\n",
       "  <thead>\n",
       "    <tr style=\"text-align: right;\">\n",
       "      <th></th>\n",
       "      <th>HEADER_ID</th>\n",
       "      <th>SOURCE_ORDER_NUMBER</th>\n",
       "      <th>FULFILL_LINE_ID</th>\n",
       "      <th>ITEM_NUMBER</th>\n",
       "      <th>ORDERED_QTY</th>\n",
       "      <th>STATUS_CODE</th>\n",
       "      <th>SOURCE_LINE_NUMBER</th>\n",
       "      <th>REQUEST_ARRIVAL_DATE</th>\n",
       "      <th>REQUEST_SHIP_DATE</th>\n",
       "      <th>SCHEDULE_ARRIVAL_DATE</th>\n",
       "      <th>SCHEDULE_SHIP_DATE</th>\n",
       "      <th>EXTENDED_AMOUNT</th>\n",
       "      <th>UNIT_LIST_PRICE</th>\n",
       "      <th>UNIT_SELLING_PRICE</th>\n",
       "      <th>TRADE_COMPLIANCE_RESULT_CODE</th>\n",
       "      <th>TRADE_COMPLIANCE_DATE</th>\n",
       "    </tr>\n",
       "  </thead>\n",
       "  <tbody>\n",
       "    <tr>\n",
       "      <th>0</th>\n",
       "      <td>100143718873134</td>\n",
       "      <td>13005673.0</td>\n",
       "      <td>1.001437e+14</td>\n",
       "      <td>B63536</td>\n",
       "      <td>1.0</td>\n",
       "      <td>CLOSED</td>\n",
       "      <td>1</td>\n",
       "      <td>2021-10-20 18:59:50</td>\n",
       "      <td>NaT</td>\n",
       "      <td>NaT</td>\n",
       "      <td>NaT</td>\n",
       "      <td>400</td>\n",
       "      <td>120</td>\n",
       "      <td>400</td>\n",
       "      <td>ORA_PASSED</td>\n",
       "      <td>2021-10-20 19:00:39</td>\n",
       "    </tr>\n",
       "    <tr>\n",
       "      <th>1</th>\n",
       "      <td>302944170908266</td>\n",
       "      <td>13051401.0</td>\n",
       "      <td>3.029442e+14</td>\n",
       "      <td>B102173</td>\n",
       "      <td>1.0</td>\n",
       "      <td>CLOSED</td>\n",
       "      <td>1</td>\n",
       "      <td>NaT</td>\n",
       "      <td>2025-02-10 04:49:04</td>\n",
       "      <td>NaT</td>\n",
       "      <td>NaT</td>\n",
       "      <td>750</td>\n",
       "      <td>750</td>\n",
       "      <td>750</td>\n",
       "      <td>ORA_PASSED</td>\n",
       "      <td>2025-02-20 17:46:43</td>\n",
       "    </tr>\n",
       "    <tr>\n",
       "      <th>2</th>\n",
       "      <td>302944170908266</td>\n",
       "      <td>13051401.0</td>\n",
       "      <td>3.029442e+14</td>\n",
       "      <td>B102174</td>\n",
       "      <td>1.0</td>\n",
       "      <td>CLOSED</td>\n",
       "      <td>2</td>\n",
       "      <td>NaT</td>\n",
       "      <td>2025-02-10 04:49:04</td>\n",
       "      <td>NaT</td>\n",
       "      <td>NaT</td>\n",
       "      <td>750</td>\n",
       "      <td>750</td>\n",
       "      <td>750</td>\n",
       "      <td>ORA_PASSED</td>\n",
       "      <td>2025-02-20 17:46:41</td>\n",
       "    </tr>\n",
       "    <tr>\n",
       "      <th>3</th>\n",
       "      <td>302944172117270</td>\n",
       "      <td>13051402.0</td>\n",
       "      <td>3.029442e+14</td>\n",
       "      <td>B81510</td>\n",
       "      <td>10.0</td>\n",
       "      <td>CREATED</td>\n",
       "      <td>1</td>\n",
       "      <td>NaT</td>\n",
       "      <td>2025-02-10 08:25:42</td>\n",
       "      <td>NaT</td>\n",
       "      <td>NaT</td>\n",
       "      <td>NaN</td>\n",
       "      <td>9.9900000000000005684341886080801486969E01</td>\n",
       "      <td>9.9900000000000005684341886080801486969E01</td>\n",
       "      <td>NaN</td>\n",
       "      <td>NaT</td>\n",
       "    </tr>\n",
       "    <tr>\n",
       "      <th>4</th>\n",
       "      <td>302944172117270</td>\n",
       "      <td>13051402.0</td>\n",
       "      <td>3.029442e+14</td>\n",
       "      <td>B108230</td>\n",
       "      <td>2000.0</td>\n",
       "      <td>CREATED</td>\n",
       "      <td>3</td>\n",
       "      <td>NaT</td>\n",
       "      <td>2025-02-10 08:25:42</td>\n",
       "      <td>NaT</td>\n",
       "      <td>NaT</td>\n",
       "      <td>NaN</td>\n",
       "      <td>9.9900000000000005684341886080801486969E01</td>\n",
       "      <td>9.9900000000000005684341886080801486969E01</td>\n",
       "      <td>NaN</td>\n",
       "      <td>NaT</td>\n",
       "    </tr>\n",
       "  </tbody>\n",
       "</table>\n",
       "</div>"
      ],
      "text/plain": [
       "         HEADER_ID  SOURCE_ORDER_NUMBER  FULFILL_LINE_ID ITEM_NUMBER  \\\n",
       "0  100143718873134           13005673.0     1.001437e+14      B63536   \n",
       "1  302944170908266           13051401.0     3.029442e+14     B102173   \n",
       "2  302944170908266           13051401.0     3.029442e+14     B102174   \n",
       "3  302944172117270           13051402.0     3.029442e+14      B81510   \n",
       "4  302944172117270           13051402.0     3.029442e+14     B108230   \n",
       "\n",
       "   ORDERED_QTY STATUS_CODE SOURCE_LINE_NUMBER REQUEST_ARRIVAL_DATE  \\\n",
       "0          1.0      CLOSED                  1  2021-10-20 18:59:50   \n",
       "1          1.0      CLOSED                  1                  NaT   \n",
       "2          1.0      CLOSED                  2                  NaT   \n",
       "3         10.0     CREATED                  1                  NaT   \n",
       "4       2000.0     CREATED                  3                  NaT   \n",
       "\n",
       "    REQUEST_SHIP_DATE SCHEDULE_ARRIVAL_DATE SCHEDULE_SHIP_DATE  \\\n",
       "0                 NaT                   NaT                NaT   \n",
       "1 2025-02-10 04:49:04                   NaT                NaT   \n",
       "2 2025-02-10 04:49:04                   NaT                NaT   \n",
       "3 2025-02-10 08:25:42                   NaT                NaT   \n",
       "4 2025-02-10 08:25:42                   NaT                NaT   \n",
       "\n",
       "  EXTENDED_AMOUNT                             UNIT_LIST_PRICE  \\\n",
       "0             400                                         120   \n",
       "1             750                                         750   \n",
       "2             750                                         750   \n",
       "3             NaN  9.9900000000000005684341886080801486969E01   \n",
       "4             NaN  9.9900000000000005684341886080801486969E01   \n",
       "\n",
       "                           UNIT_SELLING_PRICE TRADE_COMPLIANCE_RESULT_CODE  \\\n",
       "0                                         400                   ORA_PASSED   \n",
       "1                                         750                   ORA_PASSED   \n",
       "2                                         750                   ORA_PASSED   \n",
       "3  9.9900000000000005684341886080801486969E01                          NaN   \n",
       "4  9.9900000000000005684341886080801486969E01                          NaN   \n",
       "\n",
       "  TRADE_COMPLIANCE_DATE  \n",
       "0   2021-10-20 19:00:39  \n",
       "1   2025-02-20 17:46:43  \n",
       "2   2025-02-20 17:46:41  \n",
       "3                   NaT  \n",
       "4                   NaT  "
      ]
     },
     "execution_count": 19,
     "metadata": {},
     "output_type": "execute_result"
    }
   ],
   "source": [
    "# Importing the Order Line Details Data into Data Frame 2\n",
    "OrderLineDetails = pd.read_excel('Flines_Details.xlsx')\n",
    "OrderLineDetails.head()"
   ]
  },
  {
   "cell_type": "code",
   "execution_count": 20,
   "id": "4da09ac18fb6df1d",
   "metadata": {
    "ExecuteTime": {
     "end_time": "2025-03-13T07:29:05.063795Z",
     "start_time": "2025-03-13T07:29:05.026418Z"
    },
    "tags": []
   },
   "outputs": [],
   "source": [
    "# Treating the Missing Data\n",
    "OrderDetails = OrderDetails.fillna('Information Not Available')\n",
    "OrderLineDetails = OrderLineDetails.fillna('Information Not Available')"
   ]
  },
  {
   "cell_type": "code",
   "execution_count": 21,
   "id": "9f78f1fd-bb7b-4296-9e14-5095e19d3600",
   "metadata": {
    "tags": []
   },
   "outputs": [],
   "source": [
    "# Method to create the Order level context\n",
    "def getOrderContext(OrderNumber):\n",
    "    results_def = OrderDetails[OrderDetails['ORDER_NUMBER'] == OrderNumber]\n",
    "    results_def = results_def.reset_index(drop=True)\n",
    "    context_def = \"ORDER_NUMBER :\" + str(results_def['ORDER_NUMBER'][0]) + \"\\n\" +\"ORDER_TYPE_CODE :\" + str(results_def['ORDER_TYPE_CODE'][0]) + \"\\n\" + \"STATUS_CODE :\" + str(results_def['STATUS_CODE'][0]) + \"\\n\" + \"TRANSACTIONAL_CURRENCY_CODE :\" + str(results_def['TRANSACTIONAL_CURRENCY_CODE'][0]) + \"\\n\" + \"CANCELED_FLAG :\" + str(results_def['CANCELED_FLAG'][0]) + \"\\n\" + \"SUBMITTED_DATE :\" + str(results_def['SUBMITTED_DATE'][0])+ \"\\n\" + \"PARTY_NAME :\" + str(results_def['PARTY_NAME'][0]) + \"\\n\" + \"COUNTRY :\" + str(results_def['COUNTRY'][0]) + \"\\n\" + \"ORDERED_DATE :\" + str(results_def['ORDERED_DATE'][0]) + \"\\n\" + \"CUSTOMER_PO_NUMBER :\" + str(results_def['CUSTOMER_PO_NUMBER'][0]) + \"\\n\" \n",
    "    return context_def"
   ]
  },
  {
   "cell_type": "code",
   "execution_count": 22,
   "id": "9889d2a4-35c2-453c-aa99-d9b21e52d29e",
   "metadata": {
    "tags": []
   },
   "outputs": [],
   "source": [
    "# Method to create the Order lines level context\n",
    "def getOrderlinesContext(OrderNumber_lines):\n",
    "    line_results_def = OrderLineDetails[OrderLineDetails['SOURCE_ORDER_NUMBER'] == OrderNumber_lines]\n",
    "    line_results_def = line_results_def.reset_index(drop=True)\n",
    "    lines_context_def = \"\"\n",
    "    for index_def, row_def in line_results_def.iterrows():\n",
    "            value_ORDER_LINE_NUMBER = index_def + 1\n",
    "            value_SOURCE_ORDER_NUMBER = row_def['SOURCE_ORDER_NUMBER']\n",
    "            value_ITEM_NUMBER = row_def['ITEM_NUMBER']\n",
    "            value_STATUS_CODE = row_def['STATUS_CODE']\n",
    "            value_ORDERED_QTY = row_def['ORDERED_QTY']\n",
    "            value_SCHEDULE_ARRIVAL_DATE = row_def['SCHEDULE_ARRIVAL_DATE']\n",
    "            value_REQUEST_ARRIVAL_DATE = row_def['REQUEST_ARRIVAL_DATE']\n",
    "            value_SOURCE_LINE_NUMBER = row_def['SOURCE_LINE_NUMBER']\n",
    "            value_REQUEST_SHIP_DATE = row_def['REQUEST_SHIP_DATE']\n",
    "            value_SCHEDULE_SHIP_DATE = row_def['SCHEDULE_SHIP_DATE']\n",
    "            lines_context_def = lines_context_def + \"\\n\" + f\"{'Order line number'} : {value_ORDER_LINE_NUMBER} , {'SOURCE_ORDER_NUMBER'}: {value_SOURCE_ORDER_NUMBER} , {'ITEM_NUMBER'}: {value_ITEM_NUMBER} , {'STATUS_CODE'}:{value_STATUS_CODE}, {'ORDERED_QTY'}:{value_ORDERED_QTY}, {'SCHEDULE_ARRIVAL_DATE'}:{value_SCHEDULE_ARRIVAL_DATE}, {'REQUEST_ARRIVAL_DATE'}:{value_REQUEST_ARRIVAL_DATE}, {'SOURCE_LINE_NUMBER'}:{value_SOURCE_LINE_NUMBER}, {'REQUEST_SHIP_DATE'}:{value_REQUEST_SHIP_DATE}, {'SCHEDULE_SHIP_DATE'}:{value_SCHEDULE_SHIP_DATE}\" \n",
    "    lines_context_def=lines_context_def.lstrip()\n",
    "    return lines_context_def"
   ]
  },
  {
   "cell_type": "code",
   "execution_count": 23,
   "id": "54d1a03b-3992-4bbb-800e-3d7597e31614",
   "metadata": {
    "tags": []
   },
   "outputs": [],
   "source": [
    "# combining the Order Header level Context and Order Lines level Context\n",
    "def createOrderContext(OrderNumber):\n",
    "    # Get the information of  order from OrderDetails and Order line Details\n",
    "    Entire_Order_Context_def = getOrderContext(OrderNumber) + getOrderlinesContext(OrderNumber)\n",
    "    return Entire_Order_Context_def"
   ]
  },
  {
   "cell_type": "code",
   "execution_count": 24,
   "id": "d6f88fad-33b7-4f07-a525-311ae1827dc1",
   "metadata": {
    "tags": []
   },
   "outputs": [],
   "source": [
    "# define Model\n",
    "import oci\n",
    "from langchain_community.chat_models import ChatOCIGenAI\n",
    "from langchain_community.embeddings import OCIGenAIEmbeddings"
   ]
  },
  {
   "cell_type": "code",
   "execution_count": 30,
   "id": "df89aec4-4c5a-4e1a-a3bd-4859b712fe74",
   "metadata": {
    "tags": []
   },
   "outputs": [],
   "source": [
    "# Defining the Model and Generating Chunks\n",
    "# temperature = 0.5 - Balanced Response\n",
    "# max-tokens = 4000 - Cap on the tokens that would be generated\n",
    "def getOrderDetailsBot(Entire_Order_Context_input, query_input):\n",
    "    model_def = ChatOCIGenAI(\n",
    "        model_id=\"ocid1.generativeaimodel.oc1.us-chicago-1.amaaaaaask7dceyanrlpnq5ybfu5hnzarg7jomak3q6kyhkzjsl4qj24fyoq\",\n",
    "        #model_id=\"ocid1.generativeaimodel.oc1.us-chicago-1.amaaaaaask7dceyajqi26fkxly6qje5ysvezzrypapl7ujdnqfjq6hzo2loq\",\n",
    "        service_endpoint=\"https://inference.generativeai.us-chicago-1.oci.oraclecloud.com\",\n",
    "        compartment_id=\"ocid1.compartment.oc1..aaaaaaaalsjh4sumix2khilco66ylipnlbjflpx6hocvkmtzn4i6r22y6awq\",\n",
    "        auth_profile=\"DEFAULT\",\n",
    "        auth_file_location='~/ns-user-61/.oci/config',\n",
    "        provider=\"cohere\",\n",
    "        model_kwargs={\"temperature\": 0.2, \"max_tokens\": 4000, \"top_p\": 0.75,\"top_k\": 0, \"frequency_penalty\": 1}\n",
    "        )\n",
    "    llm_def = model_def\n",
    "    #define Embedding\n",
    "    embeddings_def = OCIGenAIEmbeddings(\n",
    "        model_id = \"ocid1.generativeaimodel.oc1.us-chicago-1.amaaaaaask7dceyadcwe6y5jt655ox5hkm76vq2wz3hs7ljbfhljvithlnoq\",\n",
    "        service_endpoint=\"https://inference.generativeai.us-chicago-1.oci.oraclecloud.com\",\n",
    "        compartment_id=\"ocid1.compartment.oc1..aaaaaaaalsjh4sumix2khilco66ylipnlbjflpx6hocvkmtzn4i6r22y6awq\",\n",
    "        auth_profile=\"DEFAULT\",\n",
    "        auth_file_location='~/ns-user-61/.oci/config'\n",
    "        )\n",
    "\n",
    "    # Create chunks for the context provided and convert into Embeddings using OCI Gen AI Embeddings \n",
    "    chunks_def = Entire_Order_Context_input.split('\\n')\n",
    "    vectorstore_def = FAISS.from_texts(texts = chunks_def,embedding=embeddings_def)\n",
    "    vectorstore_retreiver_def = vectorstore_def.as_retriever(search_kwargs={\"k\": 10})\n",
    "    keyword_retriever_def = BM25Retriever.from_texts(chunks_def)\n",
    "    keyword_retriever_def.k =  10\n",
    "    #Ensemble Retriever\n",
    "    ensemble_retriever_def = EnsembleRetriever(retrievers=[vectorstore_retreiver_def,\n",
    "                                                   keyword_retriever_def],\n",
    "                                       weights=[0.5, 0.5])\n",
    "\n",
    "    #Create prompt template\n",
    "\n",
    "    template_def = \"\"\"\n",
    "    <|system|>\n",
    "    You are a Order Management Assistant tasked with providing details related to a Order number in the **CONTEXT** and {query}\n",
    "    Please provide a detailed description based on the query asked. Take reference of the Order Information provided in the Entire Order context to respond to the User's Query\n",
    "\n",
    "    ### **Instructions:**\n",
    "    - Use the provided **CONTEXT** to shape your response.\n",
    "    - Be **professional**, while maintaining a **warm and engaging tone**.\n",
    "    - Think **step by step** before formulating your answer.\n",
    "    - Ensure the response is **persuasive, clear, and effective**.\n",
    "    - Please respond in as **minimum tokens** as possible.\n",
    "    - Validate if you can find Order Number details in the {query} and request for the Order Number if you dont find it.\n",
    "    - DO NOT include the {context} in your response\n",
    "    - Please be specific to the users {query}\n",
    "\n",
    "\n",
    "    **CONTEXT:**  \n",
    "    {context}  \n",
    "    </s>  \n",
    "    <|user|>\n",
    "    {query}  \n",
    "    </s>  \n",
    "    <|assistant|>  \n",
    "    \"\"\"\n",
    "\n",
    "    prompt_def = ChatPromptTemplate.from_template(template_def)\n",
    "    output_parser_def = StrOutputParser()\n",
    "\n",
    "    #Create chain\n",
    "    chain_def = (\n",
    "        {\"context\": keyword_retriever_def, \"query\": RunnablePassthrough()}\n",
    "        | prompt_def\n",
    "        | llm_def\n",
    "        | output_parser_def\n",
    "    )\n",
    "    \n",
    "    return chain_def.invoke(query_input)\n",
    "    "
   ]
  },
  {
   "cell_type": "code",
   "execution_count": 31,
   "id": "81ff7957-29f1-4449-8430-e0a59feee5ad",
   "metadata": {
    "tags": []
   },
   "outputs": [],
   "source": [
    "import re\n",
    "# Extract Order Number from the User Input\n",
    "def extract_order_number(user_input1):\n",
    "    \"\"\"Extracts an order number from user input.\"\"\"\n",
    "    match = re.search(r'\\b\\d{6,10}\\b', user_input1)  # Adjust the pattern based on your order number format\n",
    "    return match.group() if match else None"
   ]
  },
  {
   "cell_type": "code",
   "execution_count": 32,
   "id": "08be8fd2-b019-47f3-bfed-a0873e63bc95",
   "metadata": {
    "tags": []
   },
   "outputs": [],
   "source": [
    "# Method to Handle the query based on User Input and Order Number extracted\n",
    "def handle_order_query(user_input2, order_num):\n",
    "    \"\"\"Main function to process order queries.\"\"\"\n",
    "\n",
    "    order_details = createOrderContext(order_num)\n",
    "    response = getOrderDetailsBot(user_input2, order_details)\n",
    "    return response"
   ]
  },
  {
   "cell_type": "code",
   "execution_count": 33,
   "id": "94764db0-4eb4-4861-bfc9-7a3a34077760",
   "metadata": {
    "tags": []
   },
   "outputs": [],
   "source": [
    "user_data = {}  # Dictionary to store user session data\n",
    "# Invoke the Order Management Bot and start conversation\n",
    "def omBot_Conversation():\n",
    "    print(\"Chatbot: Hello! I'm OM-Bot. Please enter your Order Number along with your query.\\nType 'bye' to exit.\")\n",
    "\n",
    "    while True:\n",
    "        user_input = input(\"You: \").strip().lower()\n",
    "\n",
    "        if user_input == \"bye\":\n",
    "            print(\"Chatbot: Goodbye!\")\n",
    "            break\n",
    "\n",
    "        order_number = extract_order_number(user_input)  # Extract order number\n",
    "        \n",
    "        if order_number:\n",
    "            user_data[\"order_number\"] = int(order_number)  # Store order number in session\n",
    "        \n",
    "        if \"hello\" in user_input:\n",
    "            print(\"Chatbot: Hello there!\")\n",
    "        elif \"good morning\" in user_input or \"good afternoon\" in user_input or \"good evening\" in user_input:\n",
    "            print(\"Chatbot: Greetings of the day! I hope you are doing great.\")\n",
    "        elif \"how are you\" in user_input:\n",
    "            print(\"Chatbot: I'm doing well, thank you!\")\n",
    "        elif \"what is your name\" in user_input:\n",
    "            print(\"Chatbot: My name is OM-Bot.\")\n",
    "        else:\n",
    "            if \"order status\" in user_input or \"where is my order\" in user_input:\n",
    "                if \"order_number\" in user_data:\n",
    "                    bot_response = handle_order_query(f\"Order {user_data['order_number']}\")\n",
    "                else:\n",
    "                    bot_response = \"I don't have your order number. Can you please provide it?\"\n",
    "            else:\n",
    "                bot_response = handle_order_query(user_input, user_data[\"order_number\"])\n",
    "                \n",
    "            print(bot_response)\n"
   ]
  },
  {
   "cell_type": "code",
   "execution_count": 37,
   "id": "741db1ea-7be2-4a97-9d25-f18cecd198fe",
   "metadata": {
    "tags": []
   },
   "outputs": [
    {
     "name": "stdout",
     "output_type": "stream",
     "text": [
      "Chatbot: Hello! I'm OM-Bot. Please enter your Order Number along with your query.\n",
      "Type 'bye' to exit.\n"
     ]
    },
    {
     "name": "stdout",
     "output_type": "stream",
     "text": [
      "You:  Helloo\n"
     ]
    },
    {
     "name": "stdout",
     "output_type": "stream",
     "text": [
      "Chatbot: Hello there!\n"
     ]
    },
    {
     "name": "stdout",
     "output_type": "stream",
     "text": [
      "You:  Get details of the order 13051402?\n"
     ]
    },
    {
     "name": "stdout",
     "output_type": "stream",
     "text": [
      "I have found the order details for order number 13051402. Here is a summary:\n",
      "\n",
      "- Order Type: Cloud Services\n",
      "- Status: DOO_DRAFT\n",
      "- Currency: USD\n",
      "- Customer: Peerless Construction, LLC\n",
      "- Order Date: 2025-02-10\n",
      "- Customer PO Number: CC-5454\n",
      "\n",
      "The order contains three items:\n",
      "1. Item B81510: 10 units, status CREATED.\n",
      "2. Item B108230: 2000 units, status CREATED.\n",
      "3. Item B109229: 2 units, status CREATED.\n",
      "\n",
      "All items have a requested ship date of 2025-02-10 08:25:42, and the arrival dates are not available.\n",
      "\n",
      "Is there anything else I can help you with regarding this order?\n"
     ]
    },
    {
     "name": "stdout",
     "output_type": "stream",
     "text": [
      "You:  what is the currency code on this order ?\n"
     ]
    },
    {
     "name": "stdout",
     "output_type": "stream",
     "text": [
      "Hello, I have found the order number 13051402 in the provided context. The transactional currency code for this order is USD.\n"
     ]
    },
    {
     "name": "stdout",
     "output_type": "stream",
     "text": [
      "You:  What is the status of the order 13051519 ?\n"
     ]
    },
    {
     "name": "stdout",
     "output_type": "stream",
     "text": [
      "Order number 13051519 is an open order placed by CommonSpirit Health on February 19, 2025. It consists of eight items, with a quantity of 1.0 each, awaiting shipment. The scheduled arrival date for items 1-6 and 8 is February 21, 2025, at 13:31, while items 4 and 7 are awaiting a provider response with no scheduled arrival date.\n"
     ]
    },
    {
     "name": "stdout",
     "output_type": "stream",
     "text": [
      "You:  get details of this order \n"
     ]
    },
    {
     "name": "stdout",
     "output_type": "stream",
     "text": [
      "I have found the order number details you requested. Here is the information:\n",
      "\n",
      "**Order Number:** 13051519\n",
      "**Order Type Code:** ALL BUSINESS MODELS\n",
      "**Status Code:** OPEN\n",
      "**Transactional Currency Code:** USD\n",
      "**Canceled Flag:** N\n",
      "**Submitted Date:** 2025-02-19 08:07:00\n",
      "**Party Name:** CommonSpirit Health\n",
      "**Country:** US\n",
      "**Ordered Date:** 2025-02-19 00:00:00\n",
      "**Customer PO Number:** 123456\n",
      "\n",
      "**Order Line Details:**\n",
      "- Line 1: ITEM_NUMBER: 7607542, STATUS_CODE: AWAIT_SHIP, ORDERED_QTY: 1.0, SCHEDULE_ARRIVAL_DATE: 2025-02-21 13:31:00, REQUEST_ARRIVAL_DATE: 2025-02-19 08:07:04, REQUEST_SHIP_DATE: Information Not Available, SCHEDULE_SHIP_DATE: 2025-02-20 10:31:00\n",
      "- Line 2: ITEM_NUMBER: 8218553, STATUS_CODE: AWAIT_SHIP, ORDERED_QTY: 1.0, SCHEDULE_ARRIVAL_DATE: 2025-02-21 13:31:00, REQUEST_ARRIVAL_DATE: 2025-02-19 08:07:04, REQUEST_SHIP_DATE: Information Not Available, SCHEDULE_SHIP_DATE: 2025-02-20 10:31:00\n",
      "- Line 3: ITEM_NUMBER: 7607548, STATUS_CODE: AWAIT_SHIP, ORDERED_QTY: 1.0, SCHEDULE_ARRIVAL_DATE: 2025-02-21 13:31:00, REQUEST_ARRIVAL_DATE: 2025-02-19 08:07:04, REQUEST_SHIP_DATE: Information Not Available, SCHEDULE_SHIP_DATE: 2025-02-20 10:31:00\n",
      "- Line 4: ITEM_NUMBER: B100031, STATUS_CODE: AWAITING_PROV_RESPONSE, ORDERED_QTY: 1.0, SCHEDULE_ARRIVAL_DATE: Information Not Available, REQUEST_ARRIVAL_DATE: 2025-02-19 08:07:04, REQUEST_SHIP_DATE: Information Not Available, SCHEDULE_SHIP_DATE: Information Not Available\n",
      "- Line 5: ITEM_NUMBER: 7607550, STATUS_CODE: AWAIT_SHIP, ORDERED_QTY: 1.0, SCHEDULE_ARRIVAL_DATE: 2025-02-21 13:31:00, REQUEST_ARRIVAL_DATE: 2025-02-19 08:07:04, REQUEST_SHIP_DATE: Information Not Available, SCHEDULE_SHIP_DATE: 2025-02-20 10:31:00\n",
      "- Line 6: ITEM_NUMBER: 8218555, STATUS_CODE: AWAIT_SHIP, ORDERED_QTY: 1.0, SCHEDULE_ARRIVAL_DATE: 2025-02-21 13:31:00, REQUEST_ARRIVAL_DATE: 2025-02-19 08:07:04, REQUEST_SHIP_DATE: Information Not Available, SCHEDULE_SHIP_DATE: 2025-02-20 10:31:00\n",
      "- Line 7: ITEM_NUMBER: B100027, STATUS_CODE: AWAITING_PROV_RESPONSE, ORDERED_QTY: 1.0, SCHEDULE_ARRIVAL_DATE: Information Not Available, REQUEST_ARRIVAL_DATE: 2025-02-19 08:07:04, REQUEST_SHIP_DATE: Information Not Available, SCHEDULE_SHIP_DATE: Information Not Available\n",
      "- Line 8: ITEM_NUMBER: 8218552, STATUS_CODE: AWAIT_SHIP, ORDERED_QTY: 1.0, SCHEDULE_ARRIVAL_DATE: 2025-02-21 13:31:00, REQUEST_ARRIVAL_DATE: 2025-02-19 08:07:04, REQUEST_SHIP_DATE: Information Not Available, SCHEDULE_SHIP_DATE: 2025-02-20 10:31:00\n",
      "\n",
      "I hope this information is helpful! Please let me know if you require further assistance.\n"
     ]
    },
    {
     "name": "stdout",
     "output_type": "stream",
     "text": [
      "You:  who is the customer on the order 13051404?\n"
     ]
    },
    {
     "name": "stdout",
     "output_type": "stream",
     "text": [
      "The customer for order number 13051404 is Success Foods Management Group LLC c/o Torchy's Taco.\n"
     ]
    },
    {
     "name": "stdout",
     "output_type": "stream",
     "text": [
      "You:  bye\n"
     ]
    },
    {
     "name": "stdout",
     "output_type": "stream",
     "text": [
      "Chatbot: Goodbye!\n"
     ]
    }
   ],
   "source": [
    "omBot_Conversation()"
   ]
  },
  {
   "cell_type": "code",
   "execution_count": null,
   "id": "63206273-c031-46f5-bc52-4eca1da3c7c6",
   "metadata": {},
   "outputs": [],
   "source": []
  }
 ],
 "metadata": {
  "kernelspec": {
   "display_name": "Python [conda env:ns-user-61_v1]",
   "language": "python",
   "name": "conda-env-ns-user-61_v1-py"
  },
  "language_info": {
   "codemirror_mode": {
    "name": "ipython",
    "version": 3
   },
   "file_extension": ".py",
   "mimetype": "text/x-python",
   "name": "python",
   "nbconvert_exporter": "python",
   "pygments_lexer": "ipython3",
   "version": "3.11.9"
  }
 },
 "nbformat": 4,
 "nbformat_minor": 5
}
